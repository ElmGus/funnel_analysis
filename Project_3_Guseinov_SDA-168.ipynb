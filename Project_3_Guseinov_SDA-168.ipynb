{
 "cells": [
  {
   "attachments": {},
   "cell_type": "markdown",
   "metadata": {},
   "source": [
    "# PROJECT-3. Анализ воронки\n",
    "\n",
    "## ЦЕЛЬ\n",
    "Исследовать поведение пользователей в обновлённом приложении.\n",
    "\n",
    "### Гипотеза 1\n",
    "По идее, должна быть разница в поведении групп, которые проходят и не проходят обучение. Но так ли это? Влияет ли обучение на скорость прохождения других этапов игры?\n",
    "\n",
    "### Гипотеза 2\n",
    "Кажется, повторное прохождение обучения положительно влияет на оплату, верно?\n",
    "\n",
    "### Гипотеза 3\n",
    "Если пользователь сначала выбирает сложность обучения, будет ли он потом проходить обучение?"
   ]
  },
  {
   "attachments": {},
   "cell_type": "markdown",
   "metadata": {},
   "source": [
    "### Задачи:\n",
    "Определить, насколько обучение сокращает время прохождения этапов игры.\n",
    "\n",
    "Доказать, что успешное обучение само по себе влияет на оплату и не имеет значения то, каким этапом оно шло.\n",
    "\n",
    "Определить, насколько прозрачен процесс взаимодействия с игрой."
   ]
  },
  {
   "attachments": {},
   "cell_type": "markdown",
   "metadata": {},
   "source": [
    "Загружаем данные:"
   ]
  },
  {
   "cell_type": "code",
   "execution_count": 138,
   "metadata": {},
   "outputs": [],
   "source": [
    "import numpy as np\n",
    "import pandas as pd\n",
    "import matplotlib.pyplot as plt\n",
    "%matplotlib inline\n",
    "import seaborn as sns\n",
    "events_df = pd.read_csv('C:/Users/admin/Desktop/skillfactory/IDE/events.csv')\n",
    "purchase_df = pd.read_csv('C:/Users/admin/Desktop/skillfactory/IDE/purchase.csv')"
   ]
  },
  {
   "attachments": {},
   "cell_type": "markdown",
   "metadata": {},
   "source": [
    "Подготавливаем таблицы:"
   ]
  },
  {
   "cell_type": "code",
   "execution_count": 139,
   "metadata": {},
   "outputs": [
    {
     "name": "stdout",
     "output_type": "stream",
     "text": [
      "<class 'pandas.core.frame.DataFrame'>\n",
      "Int64Index: 66959 entries, 51405 to 118364\n",
      "Data columns (total 6 columns):\n",
      " #   Column          Non-Null Count  Dtype  \n",
      "---  ------          --------------  -----  \n",
      " 0   id              66959 non-null  int64  \n",
      " 1   event_type      66959 non-null  object \n",
      " 2   selected_level  8342 non-null   object \n",
      " 3   start_time      66959 non-null  object \n",
      " 4   tutorial_id     32954 non-null  float64\n",
      " 5   user_id         66959 non-null  int64  \n",
      "dtypes: float64(1), int64(2), object(3)\n",
      "memory usage: 3.6+ MB\n"
     ]
    }
   ],
   "source": [
    "# фильтруем: необходимы пользователи, зарегистрировавшиеся в 2018 году\n",
    "mask = (events_df.start_time >= '2018-01-01') & (events_df.start_time < '2019-01-01') \\\n",
    "    & (events_df.event_type == 'registration')\n",
    "b_list = events_df[mask].user_id.unique() # список уникальных пользователей за 2018 год\n",
    "events_2018 = events_df[events_df.user_id.isin(b_list)] # датафрейм событий\n",
    "events_2018.info() # информация о таблице зарегстрировавшихся в 2018 году"
   ]
  },
  {
   "cell_type": "code",
   "execution_count": 140,
   "metadata": {},
   "outputs": [
    {
     "name": "stdout",
     "output_type": "stream",
     "text": [
      "<class 'pandas.core.frame.DataFrame'>\n",
      "Int64Index: 1600 entries, 1171 to 2778\n",
      "Data columns (total 4 columns):\n",
      " #   Column          Non-Null Count  Dtype \n",
      "---  ------          --------------  ----- \n",
      " 0   id              1600 non-null   int64 \n",
      " 1   user_id         1600 non-null   int64 \n",
      " 2   event_datetime  1600 non-null   object\n",
      " 3   amount          1600 non-null   int64 \n",
      "dtypes: int64(3), object(1)\n",
      "memory usage: 62.5+ KB\n"
     ]
    }
   ],
   "source": [
    "purchase_2018 = purchase_df[purchase_df.user_id.isin(b_list)] # пользователи за 2018\n",
    "purchase_2018.info() # информация о таблице покупок в 2018 году"
   ]
  },
  {
   "attachments": {},
   "cell_type": "markdown",
   "metadata": {},
   "source": [
    "Готовим общую таблицу"
   ]
  },
  {
   "cell_type": "code",
   "execution_count": 141,
   "metadata": {},
   "outputs": [
    {
     "data": {
      "text/html": [
       "<div>\n",
       "<style scoped>\n",
       "    .dataframe tbody tr th:only-of-type {\n",
       "        vertical-align: middle;\n",
       "    }\n",
       "\n",
       "    .dataframe tbody tr th {\n",
       "        vertical-align: top;\n",
       "    }\n",
       "\n",
       "    .dataframe thead th {\n",
       "        text-align: right;\n",
       "    }\n",
       "</style>\n",
       "<table border=\"1\" class=\"dataframe\">\n",
       "  <thead>\n",
       "    <tr style=\"text-align: right;\">\n",
       "      <th></th>\n",
       "      <th>event_id</th>\n",
       "      <th>event_type</th>\n",
       "      <th>selected_level</th>\n",
       "      <th>start_time</th>\n",
       "      <th>tutorial_id</th>\n",
       "      <th>user_id</th>\n",
       "      <th>purchase_id</th>\n",
       "      <th>amount</th>\n",
       "    </tr>\n",
       "  </thead>\n",
       "  <tbody>\n",
       "    <tr>\n",
       "      <th>0</th>\n",
       "      <td>80308.0</td>\n",
       "      <td>registration</td>\n",
       "      <td>NaN</td>\n",
       "      <td>2018-01-01 03:48:40</td>\n",
       "      <td>NaN</td>\n",
       "      <td>27832</td>\n",
       "      <td>NaN</td>\n",
       "      <td>NaN</td>\n",
       "    </tr>\n",
       "    <tr>\n",
       "      <th>1</th>\n",
       "      <td>80309.0</td>\n",
       "      <td>registration</td>\n",
       "      <td>NaN</td>\n",
       "      <td>2018-01-01 04:07:25</td>\n",
       "      <td>NaN</td>\n",
       "      <td>27833</td>\n",
       "      <td>NaN</td>\n",
       "      <td>NaN</td>\n",
       "    </tr>\n",
       "    <tr>\n",
       "      <th>2</th>\n",
       "      <td>80310.0</td>\n",
       "      <td>registration</td>\n",
       "      <td>NaN</td>\n",
       "      <td>2018-01-01 08:35:10</td>\n",
       "      <td>NaN</td>\n",
       "      <td>27834</td>\n",
       "      <td>NaN</td>\n",
       "      <td>NaN</td>\n",
       "    </tr>\n",
       "    <tr>\n",
       "      <th>3</th>\n",
       "      <td>80311.0</td>\n",
       "      <td>registration</td>\n",
       "      <td>NaN</td>\n",
       "      <td>2018-01-01 11:54:47</td>\n",
       "      <td>NaN</td>\n",
       "      <td>27835</td>\n",
       "      <td>NaN</td>\n",
       "      <td>NaN</td>\n",
       "    </tr>\n",
       "    <tr>\n",
       "      <th>4</th>\n",
       "      <td>80312.0</td>\n",
       "      <td>registration</td>\n",
       "      <td>NaN</td>\n",
       "      <td>2018-01-01 13:28:07</td>\n",
       "      <td>NaN</td>\n",
       "      <td>27836</td>\n",
       "      <td>NaN</td>\n",
       "      <td>NaN</td>\n",
       "    </tr>\n",
       "  </tbody>\n",
       "</table>\n",
       "</div>"
      ],
      "text/plain": [
       "   event_id    event_type selected_level          start_time  tutorial_id  \\\n",
       "0   80308.0  registration            NaN 2018-01-01 03:48:40          NaN   \n",
       "1   80309.0  registration            NaN 2018-01-01 04:07:25          NaN   \n",
       "2   80310.0  registration            NaN 2018-01-01 08:35:10          NaN   \n",
       "3   80311.0  registration            NaN 2018-01-01 11:54:47          NaN   \n",
       "4   80312.0  registration            NaN 2018-01-01 13:28:07          NaN   \n",
       "\n",
       "   user_id  purchase_id  amount  \n",
       "0    27832          NaN     NaN  \n",
       "1    27833          NaN     NaN  \n",
       "2    27834          NaN     NaN  \n",
       "3    27835          NaN     NaN  \n",
       "4    27836          NaN     NaN  "
      ]
     },
     "metadata": {},
     "output_type": "display_data"
    },
    {
     "name": "stdout",
     "output_type": "stream",
     "text": [
      "<class 'pandas.core.frame.DataFrame'>\n",
      "Int64Index: 68559 entries, 0 to 68558\n",
      "Data columns (total 8 columns):\n",
      " #   Column          Non-Null Count  Dtype         \n",
      "---  ------          --------------  -----         \n",
      " 0   event_id        66959 non-null  float64       \n",
      " 1   event_type      68559 non-null  object        \n",
      " 2   selected_level  8342 non-null   object        \n",
      " 3   start_time      68559 non-null  datetime64[ns]\n",
      " 4   tutorial_id     32954 non-null  float64       \n",
      " 5   user_id         68559 non-null  int64         \n",
      " 6   purchase_id     1600 non-null   float64       \n",
      " 7   amount          1600 non-null   float64       \n",
      "dtypes: datetime64[ns](1), float64(4), int64(1), object(2)\n",
      "memory usage: 4.7+ MB\n"
     ]
    }
   ],
   "source": [
    "# переименовываем столбцы, чтобы объединить таблицы\n",
    "events_2018 = events_2018.rename(columns={'id': 'event_id'})\n",
    "purchase_2018 = purchase_2018.rename(columns={'id': 'purchase_id', 'event_datetime': 'start_time'})\n",
    "\n",
    "# выбираем признак 'покупка' ('purchhase')\n",
    "purchase_2018['event_type'] = 'purchase'\n",
    "\n",
    "# объединяем таблицы, сбрасываем индексы, сортируем, преобразуем столбец дат\n",
    "total_events_2018 = pd.concat([events_2018, purchase_2018], sort = False)\n",
    "total_events_2018 = total_events_2018.reset_index(drop = True).sort_values('start_time')\n",
    "total_events_2018.start_time = pd.to_datetime(total_events_2018.start_time)\n",
    "\n",
    "display(total_events_2018.head()) # отображаем первые 5 строк таблицы \n",
    "total_events_2018.info() # информация о таблице событий за 2018 году"
   ]
  },
  {
   "attachments": {},
   "cell_type": "markdown",
   "metadata": {},
   "source": [
    "#  Задача 1: определим, насколько обучение сокращает время прохождения этапов игры.\n",
    "Чтобы это понять, сравним время прохождения различных этапов для пользователей, завершивших обучение, и пользователей, не начинавших обучение."
   ]
  },
  {
   "cell_type": "code",
   "execution_count": 142,
   "metadata": {},
   "outputs": [
    {
     "data": {
      "text/plain": [
       "array(['registration', 'tutorial_start', 'tutorial_finish',\n",
       "       'level_choice', 'pack_choice', 'purchase'], dtype=object)"
      ]
     },
     "metadata": {},
     "output_type": "display_data"
    }
   ],
   "source": [
    "x = total_events_2018['event_type'].unique()\n",
    "display(x) # отобразим события в event_type"
   ]
  },
  {
   "cell_type": "code",
   "execution_count": 143,
   "metadata": {},
   "outputs": [],
   "source": [
    "# Делим датафреймы\n",
    "users_tutorial_finish = total_events_2018[total_events_2018[\"event_type\"] \\\n",
    "    == \"tutorial_finish\"].user_id.unique() # пользователи, закончившие обучение\n",
    "\n",
    "users_tutorial_start = total_events_2018[total_events_2018[\"event_type\"] \\\n",
    "    == \"tutorial_start\"].user_id.unique() # пользователи, начавшие обучение\n",
    "\n",
    "users_without_tutorial1 = total_events_2018.user_id.apply(lambda x: x if x not in \\\n",
    "    users_tutorial_start else False) \n",
    "\n",
    "users_without_tutorial = users_without_tutorial1[users_without_tutorial1 != False].to_list()\n",
    "# пользователи, не начинавшие обучение\n",
    "\n",
    "total_events_whith = total_events_2018[total_events_2018.user_id.isin(users_tutorial_finish)] \n",
    "# датафрейм пользователей с обучением\n",
    "\n",
    "total_events_whithout = total_events_2018[total_events_2018.user_id.isin(users_without_tutorial)] \n",
    "# датафрейм пользователей без обучения"
   ]
  },
  {
   "attachments": {},
   "cell_type": "markdown",
   "metadata": {},
   "source": [
    "### Пользователи, завершишие обучение:"
   ]
  },
  {
   "cell_type": "code",
   "execution_count": 144,
   "metadata": {},
   "outputs": [
    {
     "name": "stdout",
     "output_type": "stream",
     "text": [
      "каждый пользователь покупает 1 раз? True\n",
      "каждый пользователь выбирает пакет 1 раз? True\n",
      "каждый пользователь выбирает сложность 1 раз? True\n"
     ]
    }
   ],
   "source": [
    "# готовим датафреймы\n",
    "registration_df = total_events_whith[total_events_whith['event_type'] \\\n",
    "    == 'registration'][['user_id','start_time']]\n",
    "\n",
    "level_choice_df = total_events_whith[total_events_whith['event_type'] \\\n",
    "    == 'level_choice'][['user_id','start_time']].sort_values('start_time').drop_duplicates('user_id')\n",
    "\n",
    "level_choice_df = level_choice_df.rename(columns = {'start_time' : 'level_choice_time'}) \n",
    "# датафрейм со временем выбора уровня сложности\n",
    "\n",
    "pack_choice_df = total_events_whith[total_events_whith['event_type'] \\\n",
    "    == 'pack_choice'][['user_id','start_time']].sort_values('start_time').drop_duplicates('user_id')\n",
    "\n",
    "pack_choice_df = pack_choice_df.rename(columns = {'start_time' : 'pack_choice_time'}) \n",
    "# датафрейм со временем выбора бесплатного пакета вопросов\n",
    "\n",
    "purchase = total_events_whith[total_events_whith['event_type'] \\\n",
    "    == 'purchase'][['user_id','start_time']]\n",
    "\n",
    "purchase = purchase.rename(columns = {'start_time' : 'purchase_time'}) \n",
    "# датафрейм со временем оплат\n",
    "\n",
    "print(\"каждый пользователь покупает 1 раз?\", purchase.user_id.count() \\\n",
    "    == purchase.user_id.nunique())\n",
    "print(\"каждый пользователь выбирает пакет 1 раз?\", pack_choice_df.user_id.count() \\\n",
    "    == pack_choice_df.user_id.nunique())\n",
    "print(\"каждый пользователь выбирает сложность 1 раз?\", level_choice_df.user_id.count() \\\n",
    "    == level_choice_df.user_id.nunique())"
   ]
  },
  {
   "attachments": {},
   "cell_type": "markdown",
   "metadata": {},
   "source": [
    "Соединим датафреймы:"
   ]
  },
  {
   "cell_type": "code",
   "execution_count": 145,
   "metadata": {},
   "outputs": [
    {
     "data": {
      "text/html": [
       "<div>\n",
       "<style scoped>\n",
       "    .dataframe tbody tr th:only-of-type {\n",
       "        vertical-align: middle;\n",
       "    }\n",
       "\n",
       "    .dataframe tbody tr th {\n",
       "        vertical-align: top;\n",
       "    }\n",
       "\n",
       "    .dataframe thead th {\n",
       "        text-align: right;\n",
       "    }\n",
       "</style>\n",
       "<table border=\"1\" class=\"dataframe\">\n",
       "  <thead>\n",
       "    <tr style=\"text-align: right;\">\n",
       "      <th></th>\n",
       "      <th>user_id</th>\n",
       "      <th>start_time</th>\n",
       "      <th>level_choice_time</th>\n",
       "      <th>pack_choice_time</th>\n",
       "      <th>purchase_time</th>\n",
       "    </tr>\n",
       "  </thead>\n",
       "  <tbody>\n",
       "    <tr>\n",
       "      <th>0</th>\n",
       "      <td>27833</td>\n",
       "      <td>2018-01-01 04:07:25</td>\n",
       "      <td>NaT</td>\n",
       "      <td>NaT</td>\n",
       "      <td>NaT</td>\n",
       "    </tr>\n",
       "    <tr>\n",
       "      <th>1</th>\n",
       "      <td>27834</td>\n",
       "      <td>2018-01-01 08:35:10</td>\n",
       "      <td>NaT</td>\n",
       "      <td>NaT</td>\n",
       "      <td>NaT</td>\n",
       "    </tr>\n",
       "    <tr>\n",
       "      <th>2</th>\n",
       "      <td>27835</td>\n",
       "      <td>2018-01-01 11:54:47</td>\n",
       "      <td>2018-01-01 20:37:22</td>\n",
       "      <td>2018-01-01 20:38:43</td>\n",
       "      <td>NaT</td>\n",
       "    </tr>\n",
       "    <tr>\n",
       "      <th>3</th>\n",
       "      <td>27836</td>\n",
       "      <td>2018-01-01 13:28:07</td>\n",
       "      <td>NaT</td>\n",
       "      <td>NaT</td>\n",
       "      <td>NaT</td>\n",
       "    </tr>\n",
       "    <tr>\n",
       "      <th>4</th>\n",
       "      <td>27839</td>\n",
       "      <td>2018-01-01 18:24:01</td>\n",
       "      <td>2018-01-01 22:37:50</td>\n",
       "      <td>2018-01-01 22:42:54</td>\n",
       "      <td>NaT</td>\n",
       "    </tr>\n",
       "  </tbody>\n",
       "</table>\n",
       "</div>"
      ],
      "text/plain": [
       "   user_id          start_time   level_choice_time    pack_choice_time  \\\n",
       "0    27833 2018-01-01 04:07:25                 NaT                 NaT   \n",
       "1    27834 2018-01-01 08:35:10                 NaT                 NaT   \n",
       "2    27835 2018-01-01 11:54:47 2018-01-01 20:37:22 2018-01-01 20:38:43   \n",
       "3    27836 2018-01-01 13:28:07                 NaT                 NaT   \n",
       "4    27839 2018-01-01 18:24:01 2018-01-01 22:37:50 2018-01-01 22:42:54   \n",
       "\n",
       "  purchase_time  \n",
       "0           NaT  \n",
       "1           NaT  \n",
       "2           NaT  \n",
       "3           NaT  \n",
       "4           NaT  "
      ]
     },
     "execution_count": 145,
     "metadata": {},
     "output_type": "execute_result"
    }
   ],
   "source": [
    "total_df = registration_df.merge(level_choice_df, how = 'left', on = 'user_id')\n",
    "total_df = total_df.merge(pack_choice_df, how = 'left', on = 'user_id')\n",
    "total_df = total_df.merge(purchase, how = 'left', on = 'user_id')\n",
    "\n",
    "total_df.head() # первые пять строк датафрейма"
   ]
  },
  {
   "attachments": {},
   "cell_type": "markdown",
   "metadata": {},
   "source": [
    "### Пользователи, не начинавшие обучение"
   ]
  },
  {
   "cell_type": "code",
   "execution_count": 146,
   "metadata": {},
   "outputs": [
    {
     "name": "stdout",
     "output_type": "stream",
     "text": [
      "каждый пользователь покупает 1 раз? True\n",
      "каждый пользователь выбирает пакет 1 раз? True\n",
      "каждый пользователь выбирает сложность 1 раз? True\n"
     ]
    }
   ],
   "source": [
    "# готовим датафреймы\n",
    "registration_df1 = total_events_whithout[total_events_whithout['event_type'] \\\n",
    "    == 'registration'][['user_id','start_time']]\n",
    "\n",
    "level_choice_df1 = total_events_whithout[total_events_whithout['event_type'] \\\n",
    "    == 'level_choice'][['user_id','start_time']].sort_values('start_time').drop_duplicates('user_id')\n",
    "\n",
    "level_choice_df1 = level_choice_df1.rename(columns = {'start_time' : 'level_choice_time'}) \n",
    "# датафрейм со временем выбора уровня сложности\n",
    "\n",
    "pack_choice_df1 = total_events_whithout[total_events_whithout['event_type'] \\\n",
    "    == 'pack_choice'][['user_id','start_time']].sort_values('start_time').drop_duplicates('user_id')\n",
    "\n",
    "pack_choice_df1 = pack_choice_df1.rename(columns = {'start_time' : 'pack_choice_time'}) \n",
    "# датафрейм со временем выбора бесплатного пакета вопросов\n",
    "\n",
    "purchase1 = total_events_whithout[total_events_whithout['event_type'] \\\n",
    "    == 'purchase'][['user_id','start_time']]\n",
    "\n",
    "purchase1 = purchase1.rename(columns = {'start_time' : 'purchase_time'}) \n",
    "# датафрейм со временем оплат\n",
    "\n",
    "print(\"каждый пользователь покупает 1 раз?\", purchase1.user_id.count() \\\n",
    "    == purchase1.user_id.nunique())\n",
    "print(\"каждый пользователь выбирает пакет 1 раз?\", pack_choice_df1.user_id.count() \\\n",
    "    == pack_choice_df1.user_id.nunique())\n",
    "print(\"каждый пользователь выбирает сложность 1 раз?\", level_choice_df1.user_id.count() \\\n",
    "    == level_choice_df1.user_id.nunique())"
   ]
  },
  {
   "attachments": {},
   "cell_type": "markdown",
   "metadata": {},
   "source": [
    "Соединим датафреймы"
   ]
  },
  {
   "cell_type": "code",
   "execution_count": 147,
   "metadata": {},
   "outputs": [
    {
     "data": {
      "text/html": [
       "<div>\n",
       "<style scoped>\n",
       "    .dataframe tbody tr th:only-of-type {\n",
       "        vertical-align: middle;\n",
       "    }\n",
       "\n",
       "    .dataframe tbody tr th {\n",
       "        vertical-align: top;\n",
       "    }\n",
       "\n",
       "    .dataframe thead th {\n",
       "        text-align: right;\n",
       "    }\n",
       "</style>\n",
       "<table border=\"1\" class=\"dataframe\">\n",
       "  <thead>\n",
       "    <tr style=\"text-align: right;\">\n",
       "      <th></th>\n",
       "      <th>user_id</th>\n",
       "      <th>start_time</th>\n",
       "      <th>level_choice_time</th>\n",
       "      <th>pack_choice_time</th>\n",
       "      <th>purchase_time</th>\n",
       "    </tr>\n",
       "  </thead>\n",
       "  <tbody>\n",
       "    <tr>\n",
       "      <th>0</th>\n",
       "      <td>27833</td>\n",
       "      <td>2018-01-01 04:07:25</td>\n",
       "      <td>NaT</td>\n",
       "      <td>NaT</td>\n",
       "      <td>NaT</td>\n",
       "    </tr>\n",
       "    <tr>\n",
       "      <th>1</th>\n",
       "      <td>27834</td>\n",
       "      <td>2018-01-01 08:35:10</td>\n",
       "      <td>NaT</td>\n",
       "      <td>NaT</td>\n",
       "      <td>NaT</td>\n",
       "    </tr>\n",
       "    <tr>\n",
       "      <th>2</th>\n",
       "      <td>27835</td>\n",
       "      <td>2018-01-01 11:54:47</td>\n",
       "      <td>2018-01-01 20:37:22</td>\n",
       "      <td>2018-01-01 20:38:43</td>\n",
       "      <td>NaT</td>\n",
       "    </tr>\n",
       "    <tr>\n",
       "      <th>3</th>\n",
       "      <td>27836</td>\n",
       "      <td>2018-01-01 13:28:07</td>\n",
       "      <td>NaT</td>\n",
       "      <td>NaT</td>\n",
       "      <td>NaT</td>\n",
       "    </tr>\n",
       "    <tr>\n",
       "      <th>4</th>\n",
       "      <td>27839</td>\n",
       "      <td>2018-01-01 18:24:01</td>\n",
       "      <td>2018-01-01 22:37:50</td>\n",
       "      <td>2018-01-01 22:42:54</td>\n",
       "      <td>NaT</td>\n",
       "    </tr>\n",
       "  </tbody>\n",
       "</table>\n",
       "</div>"
      ],
      "text/plain": [
       "   user_id          start_time   level_choice_time    pack_choice_time  \\\n",
       "0    27833 2018-01-01 04:07:25                 NaT                 NaT   \n",
       "1    27834 2018-01-01 08:35:10                 NaT                 NaT   \n",
       "2    27835 2018-01-01 11:54:47 2018-01-01 20:37:22 2018-01-01 20:38:43   \n",
       "3    27836 2018-01-01 13:28:07                 NaT                 NaT   \n",
       "4    27839 2018-01-01 18:24:01 2018-01-01 22:37:50 2018-01-01 22:42:54   \n",
       "\n",
       "  purchase_time  \n",
       "0           NaT  \n",
       "1           NaT  \n",
       "2           NaT  \n",
       "3           NaT  \n",
       "4           NaT  "
      ]
     },
     "execution_count": 147,
     "metadata": {},
     "output_type": "execute_result"
    }
   ],
   "source": [
    "total_df1 = registration_df1.merge(level_choice_df1, how = 'left', on = 'user_id') \n",
    "# соединяем \"слева\" по ключу 'user_id'\n",
    "total_df1 = total_df1.merge(pack_choice_df1, how = 'left', on = 'user_id')\n",
    "total_df1 = total_df1.merge(purchase1, how = 'left', on = 'user_id')\n",
    "\n",
    "total_df.head() # первые пять строк датафрейма"
   ]
  },
  {
   "attachments": {},
   "cell_type": "markdown",
   "metadata": {},
   "source": [
    "Подготовим датафреймы для визуализации"
   ]
  },
  {
   "cell_type": "code",
   "execution_count": 148,
   "metadata": {},
   "outputs": [
    {
     "data": {
      "text/plain": [
       "'Воронка - пользователи без обучения'"
      ]
     },
     "metadata": {},
     "output_type": "display_data"
    },
    {
     "data": {
      "text/plain": [
       "user_id              8068\n",
       "start_time           8068\n",
       "level_choice_time      98\n",
       "pack_choice_time       74\n",
       "purchase_time          22\n",
       "group_without        8068\n",
       "dtype: int64"
      ]
     },
     "metadata": {},
     "output_type": "display_data"
    },
    {
     "data": {
      "text/plain": [
       "'Воронка - пользователи с обучением'"
      ]
     },
     "metadata": {},
     "output_type": "display_data"
    },
    {
     "data": {
      "text/plain": [
       "user_id              10250\n",
       "start_time           10250\n",
       "level_choice_time     7501\n",
       "pack_choice_time      5176\n",
       "purchase_time         1447\n",
       "group_without        10250\n",
       "dtype: int64"
      ]
     },
     "metadata": {},
     "output_type": "display_data"
    }
   ],
   "source": [
    "total_df1['group_without'] = 'no_tutorial' # новый признак, без обучения и с обучением\n",
    "total_df['group_without'] = 'yes_tutorial'\n",
    "\n",
    "display('Воронка - пользователи без обучения', total_df1.count(), \n",
    "      'Воронка - пользователи с обучением',\n",
    "       total_df.count())\n",
    "\n",
    "vizual_df = total_df.count()\n",
    "vizual_df1 = total_df1.count()"
   ]
  },
  {
   "cell_type": "code",
   "execution_count": 149,
   "metadata": {},
   "outputs": [
    {
     "data": {
      "text/html": [
       "<div>\n",
       "<style scoped>\n",
       "    .dataframe tbody tr th:only-of-type {\n",
       "        vertical-align: middle;\n",
       "    }\n",
       "\n",
       "    .dataframe tbody tr th {\n",
       "        vertical-align: top;\n",
       "    }\n",
       "\n",
       "    .dataframe thead th {\n",
       "        text-align: right;\n",
       "    }\n",
       "</style>\n",
       "<table border=\"1\" class=\"dataframe\">\n",
       "  <thead>\n",
       "    <tr style=\"text-align: right;\">\n",
       "      <th></th>\n",
       "      <th>События</th>\n",
       "      <th>Число пользователей</th>\n",
       "    </tr>\n",
       "  </thead>\n",
       "  <tbody>\n",
       "    <tr>\n",
       "      <th>1</th>\n",
       "      <td>start_time</td>\n",
       "      <td>10250</td>\n",
       "    </tr>\n",
       "    <tr>\n",
       "      <th>2</th>\n",
       "      <td>level_choice_time</td>\n",
       "      <td>7501</td>\n",
       "    </tr>\n",
       "    <tr>\n",
       "      <th>3</th>\n",
       "      <td>pack_choice_time</td>\n",
       "      <td>5176</td>\n",
       "    </tr>\n",
       "    <tr>\n",
       "      <th>4</th>\n",
       "      <td>purchase_time</td>\n",
       "      <td>1447</td>\n",
       "    </tr>\n",
       "  </tbody>\n",
       "</table>\n",
       "</div>"
      ],
      "text/plain": [
       "             События  Число пользователей\n",
       "1         start_time                10250\n",
       "2  level_choice_time                 7501\n",
       "3   pack_choice_time                 5176\n",
       "4      purchase_time                 1447"
      ]
     },
     "metadata": {},
     "output_type": "display_data"
    },
    {
     "data": {
      "text/html": [
       "<div>\n",
       "<style scoped>\n",
       "    .dataframe tbody tr th:only-of-type {\n",
       "        vertical-align: middle;\n",
       "    }\n",
       "\n",
       "    .dataframe tbody tr th {\n",
       "        vertical-align: top;\n",
       "    }\n",
       "\n",
       "    .dataframe thead th {\n",
       "        text-align: right;\n",
       "    }\n",
       "</style>\n",
       "<table border=\"1\" class=\"dataframe\">\n",
       "  <thead>\n",
       "    <tr style=\"text-align: right;\">\n",
       "      <th></th>\n",
       "      <th>События</th>\n",
       "      <th>Число пользователей</th>\n",
       "    </tr>\n",
       "  </thead>\n",
       "  <tbody>\n",
       "    <tr>\n",
       "      <th>1</th>\n",
       "      <td>start_time</td>\n",
       "      <td>8068</td>\n",
       "    </tr>\n",
       "    <tr>\n",
       "      <th>2</th>\n",
       "      <td>level_choice_time</td>\n",
       "      <td>98</td>\n",
       "    </tr>\n",
       "    <tr>\n",
       "      <th>3</th>\n",
       "      <td>pack_choice_time</td>\n",
       "      <td>74</td>\n",
       "    </tr>\n",
       "    <tr>\n",
       "      <th>4</th>\n",
       "      <td>purchase_time</td>\n",
       "      <td>22</td>\n",
       "    </tr>\n",
       "  </tbody>\n",
       "</table>\n",
       "</div>"
      ],
      "text/plain": [
       "             События  Число пользователей\n",
       "1         start_time                 8068\n",
       "2  level_choice_time                   98\n",
       "3   pack_choice_time                   74\n",
       "4      purchase_time                   22"
      ]
     },
     "metadata": {},
     "output_type": "display_data"
    }
   ],
   "source": [
    "# готовим датафреймы для визуализации данных\n",
    "\n",
    "vizual_df = pd.DataFrame(vizual_df, index = vizual_df.index)\n",
    "vizual_df = vizual_df.rename_axis('События').reset_index()\n",
    "vizual_df.columns = ['События', 'Число пользователей']\n",
    "vizual_df = vizual_df.loc[1:4, :]\n",
    "\n",
    "vizual_df1 = pd.DataFrame(vizual_df1, index = vizual_df1.index)\n",
    "vizual_df1 = vizual_df1.rename_axis('События').reset_index()\n",
    "vizual_df1.columns = ['События', 'Число пользователей']\n",
    "vizual_df1 = vizual_df1.loc[1:4, :]\n",
    "\n",
    "# здесь 'start_time' - время регистрации\n",
    "display(vizual_df)\n",
    "display(vizual_df1)"
   ]
  },
  {
   "attachments": {},
   "cell_type": "markdown",
   "metadata": {},
   "source": [
    "Визуализация воронки"
   ]
  },
  {
   "cell_type": "code",
   "execution_count": 150,
   "metadata": {},
   "outputs": [
    {
     "data": {
      "image/png": "[encoded data removed]",
      "text/plain": [
       "<Figure size 1500x300 with 2 Axes>"
      ]
     },
     "metadata": {},
     "output_type": "display_data"
    }
   ],
   "source": [
    "fig,axes = plt.subplots(1,2, figsize = (15,3))\n",
    "\n",
    "sns.barplot(\n",
    "    data=vizual_df,\n",
    "    x = 'События',\n",
    "    y = 'Число пользователей',\n",
    "    orient='v',\n",
    "    width=0.3,\n",
    "    ax = axes[0]);\n",
    "\n",
    "axes[0].set_title('Воронка событий (с обучением)')\n",
    "axes[0].set_xlabel('Группы')\n",
    "axes[0].grid()\n",
    "axes[0].xaxis.set_tick_params(rotation=30)\n",
    "    \n",
    "sns.barplot(\n",
    "    data=vizual_df1, \n",
    "    x = 'События',\n",
    "    y = 'Число пользователей',\n",
    "    orient='v',\n",
    "    width=0.3,\n",
    "    ax = axes[1]);\n",
    "\n",
    "axes[1].set_title('Воронка событий (без обучения)')\n",
    "axes[1].set_xlabel('Группы')\n",
    "axes[1].grid()\n",
    "axes[1].xaxis.set_tick_params(rotation=30)\n",
    "\n",
    "# start_time - время регистрации, обязательный для всех параметр"
   ]
  },
  {
   "attachments": {},
   "cell_type": "markdown",
   "metadata": {},
   "source": [
    "### Воронка у группы, завершивших обучением, больше, чем у группы без обучения (группа, начавшая, но не завершившая обучения, будет рассмотрена далее)."
   ]
  },
  {
   "cell_type": "code",
   "execution_count": 151,
   "metadata": {},
   "outputs": [
    {
     "name": "stdout",
     "output_type": "stream",
     "text": [
      "<class 'pandas.core.frame.DataFrame'>\n",
      "Int64Index: 18318 entries, 0 to 8067\n",
      "Data columns (total 6 columns):\n",
      " #   Column             Non-Null Count  Dtype         \n",
      "---  ------             --------------  -----         \n",
      " 0   user_id            18318 non-null  int64         \n",
      " 1   start_time         18318 non-null  datetime64[ns]\n",
      " 2   level_choice_time  7599 non-null   datetime64[ns]\n",
      " 3   pack_choice_time   5250 non-null   datetime64[ns]\n",
      " 4   purchase_time      1469 non-null   datetime64[ns]\n",
      " 5   group_without      18318 non-null  object        \n",
      "dtypes: datetime64[ns](4), int64(1), object(1)\n",
      "memory usage: 1001.8+ KB\n"
     ]
    }
   ],
   "source": [
    "# объединим датайремы в один\n",
    "total_group_df = pd.concat([total_df, total_df1])\n",
    "total_group_df.info()"
   ]
  },
  {
   "attachments": {},
   "cell_type": "markdown",
   "metadata": {},
   "source": [
    "### Проверка имеющихся данных"
   ]
  },
  {
   "cell_type": "code",
   "execution_count": 152,
   "metadata": {},
   "outputs": [
    {
     "name": "stdout",
     "output_type": "stream",
     "text": [
      "всего 19926 пользователей\n",
      "закончили обучение 10250 пользователей.\n",
      "1608 пользователей начали обучение, но не закончили.\n",
      "Количество пользователей с вычетом тех, кто не закончил обучение равно 18318.\n",
      "18318 пользователей в новом объединённом датафрейме, количество совпадает.\n"
     ]
    }
   ],
   "source": [
    "# рассмотрели только две группы пользователей - прошедших обучение и необучавшихся \n",
    "# Посмотрим на пользователей, начавших, но не окончивших обучение\n",
    "print('всего {} пользователей'.format(total_events_2018.user_id.nunique()))\n",
    "\n",
    "print('закончили обучение {} пользователей.'.\\\n",
    "    format(total_events_2018[total_events_2018['event_type'] == 'tutorial_finish'].user_id.nunique()))\n",
    "\n",
    "print('{} пользователей начали обучение, но не закончили.'.\\\n",
    "    format(total_events_2018[total_events_2018['event_type'] == 'tutorial_start'].user_id.nunique() -\n",
    "total_events_2018[total_events_2018['event_type'] == 'tutorial_finish'].user_id.nunique()))\n",
    "\n",
    "print('Количество пользователей с вычетом тех, кто не закончил обучение равно {}.'.\\\n",
    "    format(total_events_whithout.user_id.nunique() + total_events_whith.user_id.nunique()))\n",
    "\n",
    "print('{} пользователей в новом объединённом датафрейме, количество совпадает.'.format\\\n",
    "    (total_group_df.user_id.nunique()))\n",
    "\n",
    "count_all_users = total_events_2018.user_id.nunique() # используем в дальнейшем"
   ]
  },
  {
   "cell_type": "code",
   "execution_count": 153,
   "metadata": {},
   "outputs": [
    {
     "data": {
      "text/html": [
       "<div>\n",
       "<style scoped>\n",
       "    .dataframe tbody tr th:only-of-type {\n",
       "        vertical-align: middle;\n",
       "    }\n",
       "\n",
       "    .dataframe tbody tr th {\n",
       "        vertical-align: top;\n",
       "    }\n",
       "\n",
       "    .dataframe thead tr th {\n",
       "        text-align: left;\n",
       "    }\n",
       "</style>\n",
       "<table border=\"1\" class=\"dataframe\">\n",
       "  <thead>\n",
       "    <tr>\n",
       "      <th></th>\n",
       "      <th></th>\n",
       "      <th colspan=\"2\" halign=\"left\">describe</th>\n",
       "    </tr>\n",
       "    <tr>\n",
       "      <th></th>\n",
       "      <th>group_without</th>\n",
       "      <th>no_tutorial</th>\n",
       "      <th>yes_tutorial</th>\n",
       "    </tr>\n",
       "  </thead>\n",
       "  <tbody>\n",
       "    <tr>\n",
       "      <th rowspan=\"8\" valign=\"top\">level_choice_time</th>\n",
       "      <th>25%</th>\n",
       "      <td>0 days 02:15:28.500000</td>\n",
       "      <td>0 days 03:51:41</td>\n",
       "    </tr>\n",
       "    <tr>\n",
       "      <th>50%</th>\n",
       "      <td>0 days 04:56:05.500000</td>\n",
       "      <td>0 days 06:00:07</td>\n",
       "    </tr>\n",
       "    <tr>\n",
       "      <th>75%</th>\n",
       "      <td>0 days 08:24:01</td>\n",
       "      <td>0 days 09:25:42</td>\n",
       "    </tr>\n",
       "    <tr>\n",
       "      <th>count</th>\n",
       "      <td>98</td>\n",
       "      <td>7501</td>\n",
       "    </tr>\n",
       "    <tr>\n",
       "      <th>max</th>\n",
       "      <td>0 days 18:34:21</td>\n",
       "      <td>1 days 18:48:25</td>\n",
       "    </tr>\n",
       "    <tr>\n",
       "      <th>mean</th>\n",
       "      <td>0 days 05:15:33.122448979</td>\n",
       "      <td>0 days 07:05:36.854819357</td>\n",
       "    </tr>\n",
       "    <tr>\n",
       "      <th>min</th>\n",
       "      <td>0 days 00:09:26</td>\n",
       "      <td>0 days 00:08:15</td>\n",
       "    </tr>\n",
       "    <tr>\n",
       "      <th>std</th>\n",
       "      <td>0 days 03:41:00.594664298</td>\n",
       "      <td>0 days 04:30:23.231509186</td>\n",
       "    </tr>\n",
       "    <tr>\n",
       "      <th rowspan=\"8\" valign=\"top\">pack_choice_time</th>\n",
       "      <th>25%</th>\n",
       "      <td>0 days 00:03:09.750000</td>\n",
       "      <td>0 days 00:03:05</td>\n",
       "    </tr>\n",
       "    <tr>\n",
       "      <th>50%</th>\n",
       "      <td>0 days 00:04:46.500000</td>\n",
       "      <td>0 days 00:04:58</td>\n",
       "    </tr>\n",
       "    <tr>\n",
       "      <th>75%</th>\n",
       "      <td>0 days 00:07:11.250000</td>\n",
       "      <td>0 days 00:07:11</td>\n",
       "    </tr>\n",
       "    <tr>\n",
       "      <th>count</th>\n",
       "      <td>74</td>\n",
       "      <td>5176</td>\n",
       "    </tr>\n",
       "    <tr>\n",
       "      <th>max</th>\n",
       "      <td>0 days 00:13:32</td>\n",
       "      <td>0 days 00:15:48</td>\n",
       "    </tr>\n",
       "    <tr>\n",
       "      <th>mean</th>\n",
       "      <td>0 days 00:05:23.824324324</td>\n",
       "      <td>0 days 00:05:18.146058732</td>\n",
       "    </tr>\n",
       "    <tr>\n",
       "      <th>min</th>\n",
       "      <td>0 days 00:00:48</td>\n",
       "      <td>0 days 00:00:19</td>\n",
       "    </tr>\n",
       "    <tr>\n",
       "      <th>std</th>\n",
       "      <td>0 days 00:03:01.230146431</td>\n",
       "      <td>0 days 00:02:44.449118501</td>\n",
       "    </tr>\n",
       "    <tr>\n",
       "      <th rowspan=\"8\" valign=\"top\">purchase_time</th>\n",
       "      <th>25%</th>\n",
       "      <td>2 days 15:49:22</td>\n",
       "      <td>1 days 21:16:05.500000</td>\n",
       "    </tr>\n",
       "    <tr>\n",
       "      <th>50%</th>\n",
       "      <td>4 days 04:38:42</td>\n",
       "      <td>3 days 12:15:56</td>\n",
       "    </tr>\n",
       "    <tr>\n",
       "      <th>75%</th>\n",
       "      <td>5 days 23:34:55.750000</td>\n",
       "      <td>5 days 08:53:44.500000</td>\n",
       "    </tr>\n",
       "    <tr>\n",
       "      <th>count</th>\n",
       "      <td>22</td>\n",
       "      <td>1447</td>\n",
       "    </tr>\n",
       "    <tr>\n",
       "      <th>max</th>\n",
       "      <td>7 days 11:56:49</td>\n",
       "      <td>10 days 18:33:59</td>\n",
       "    </tr>\n",
       "    <tr>\n",
       "      <th>mean</th>\n",
       "      <td>4 days 04:49:33.590909090</td>\n",
       "      <td>3 days 17:17:59.641326883</td>\n",
       "    </tr>\n",
       "    <tr>\n",
       "      <th>min</th>\n",
       "      <td>0 days 09:35:48</td>\n",
       "      <td>0 days 00:44:50</td>\n",
       "    </tr>\n",
       "    <tr>\n",
       "      <th>std</th>\n",
       "      <td>2 days 04:58:40.602573417</td>\n",
       "      <td>2 days 04:31:59.804658578</td>\n",
       "    </tr>\n",
       "  </tbody>\n",
       "</table>\n",
       "</div>"
      ],
      "text/plain": [
       "                                          describe                           \n",
       "group_without                          no_tutorial               yes_tutorial\n",
       "level_choice_time 25%       0 days 02:15:28.500000            0 days 03:51:41\n",
       "                  50%       0 days 04:56:05.500000            0 days 06:00:07\n",
       "                  75%              0 days 08:24:01            0 days 09:25:42\n",
       "                  count                         98                       7501\n",
       "                  max              0 days 18:34:21            1 days 18:48:25\n",
       "                  mean   0 days 05:15:33.122448979  0 days 07:05:36.854819357\n",
       "                  min              0 days 00:09:26            0 days 00:08:15\n",
       "                  std    0 days 03:41:00.594664298  0 days 04:30:23.231509186\n",
       "pack_choice_time  25%       0 days 00:03:09.750000            0 days 00:03:05\n",
       "                  50%       0 days 00:04:46.500000            0 days 00:04:58\n",
       "                  75%       0 days 00:07:11.250000            0 days 00:07:11\n",
       "                  count                         74                       5176\n",
       "                  max              0 days 00:13:32            0 days 00:15:48\n",
       "                  mean   0 days 00:05:23.824324324  0 days 00:05:18.146058732\n",
       "                  min              0 days 00:00:48            0 days 00:00:19\n",
       "                  std    0 days 00:03:01.230146431  0 days 00:02:44.449118501\n",
       "purchase_time     25%              2 days 15:49:22     1 days 21:16:05.500000\n",
       "                  50%              4 days 04:38:42            3 days 12:15:56\n",
       "                  75%       5 days 23:34:55.750000     5 days 08:53:44.500000\n",
       "                  count                         22                       1447\n",
       "                  max              7 days 11:56:49           10 days 18:33:59\n",
       "                  mean   4 days 04:49:33.590909090  3 days 17:17:59.641326883\n",
       "                  min              0 days 09:35:48            0 days 00:44:50\n",
       "                  std    2 days 04:58:40.602573417  2 days 04:31:59.804658578"
      ]
     },
     "execution_count": 153,
     "metadata": {},
     "output_type": "execute_result"
    }
   ],
   "source": [
    "# через diff считаем разницу во времени между каждым этапом по столбцам\n",
    "# start_time - время регистрации\n",
    "\n",
    "total_group_df = total_group_df.set_index('group_without') # уберем признак групп в иднекс датафрейма\n",
    "\n",
    "total_diff_df = total_group_df[['start_time', 'level_choice_time', 'pack_choice_time', 'purchase_time']] \\\n",
    "    .diff(axis = 1)\n",
    "\n",
    "total_diff_df.pivot_table(\n",
    "    values=['level_choice_time', 'pack_choice_time', 'purchase_time'],\n",
    "    columns = total_diff_df.index,\n",
    "    aggfunc = ['describe']\n",
    ") # создаем сводную таблицу с вычислением показателей с помощью агрегирующих методов. "
   ]
  },
  {
   "cell_type": "code",
   "execution_count": 154,
   "metadata": {},
   "outputs": [
    {
     "data": {
      "text/html": [
       "<div>\n",
       "<style scoped>\n",
       "    .dataframe tbody tr th:only-of-type {\n",
       "        vertical-align: middle;\n",
       "    }\n",
       "\n",
       "    .dataframe tbody tr th {\n",
       "        vertical-align: top;\n",
       "    }\n",
       "\n",
       "    .dataframe thead th {\n",
       "        text-align: right;\n",
       "    }\n",
       "</style>\n",
       "<table border=\"1\" class=\"dataframe\">\n",
       "  <thead>\n",
       "    <tr style=\"text-align: right;\">\n",
       "      <th></th>\n",
       "      <th>count</th>\n",
       "      <th>mean</th>\n",
       "      <th>std</th>\n",
       "      <th>min</th>\n",
       "      <th>25%</th>\n",
       "      <th>50%</th>\n",
       "      <th>75%</th>\n",
       "      <th>max</th>\n",
       "    </tr>\n",
       "    <tr>\n",
       "      <th>group_without</th>\n",
       "      <th></th>\n",
       "      <th></th>\n",
       "      <th></th>\n",
       "      <th></th>\n",
       "      <th></th>\n",
       "      <th></th>\n",
       "      <th></th>\n",
       "      <th></th>\n",
       "    </tr>\n",
       "  </thead>\n",
       "  <tbody>\n",
       "    <tr>\n",
       "      <th>no_tutorial</th>\n",
       "      <td>22</td>\n",
       "      <td>4 days 09:06:01.909090909</td>\n",
       "      <td>2 days 05:12:16.748091626</td>\n",
       "      <td>0 days 09:59:07</td>\n",
       "      <td>2 days 21:31:31</td>\n",
       "      <td>4 days 11:29:09</td>\n",
       "      <td>6 days 02:28:47.750000</td>\n",
       "      <td>7 days 16:46:20</td>\n",
       "    </tr>\n",
       "    <tr>\n",
       "      <th>yes_tutorial</th>\n",
       "      <td>1447</td>\n",
       "      <td>4 days 00:30:03.247408431</td>\n",
       "      <td>2 days 04:47:29.946150698</td>\n",
       "      <td>0 days 04:36:58</td>\n",
       "      <td>2 days 04:09:55</td>\n",
       "      <td>3 days 19:04:59</td>\n",
       "      <td>5 days 15:46:14</td>\n",
       "      <td>11 days 00:35:04</td>\n",
       "    </tr>\n",
       "  </tbody>\n",
       "</table>\n",
       "</div>"
      ],
      "text/plain": [
       "              count                       mean                        std  \\\n",
       "group_without                                                               \n",
       "no_tutorial      22  4 days 09:06:01.909090909  2 days 05:12:16.748091626   \n",
       "yes_tutorial   1447  4 days 00:30:03.247408431  2 days 04:47:29.946150698   \n",
       "\n",
       "                           min              25%              50%  \\\n",
       "group_without                                                      \n",
       "no_tutorial    0 days 09:59:07  2 days 21:31:31  4 days 11:29:09   \n",
       "yes_tutorial   0 days 04:36:58  2 days 04:09:55  3 days 19:04:59   \n",
       "\n",
       "                                  75%               max  \n",
       "group_without                                            \n",
       "no_tutorial    6 days 02:28:47.750000   7 days 16:46:20  \n",
       "yes_tutorial          5 days 15:46:14  11 days 00:35:04  "
      ]
     },
     "execution_count": 154,
     "metadata": {},
     "output_type": "execute_result"
    }
   ],
   "source": [
    "# определим время между началом (регистрацией) и оплатой\n",
    "total_group_df['delta'] =  total_group_df['purchase_time'] - total_group_df['start_time']\n",
    "total_group_df.groupby(total_group_df.index)['delta'].describe()"
   ]
  },
  {
   "cell_type": "code",
   "execution_count": 155,
   "metadata": {},
   "outputs": [
    {
     "data": {
      "text/html": [
       "<div>\n",
       "<style scoped>\n",
       "    .dataframe tbody tr th:only-of-type {\n",
       "        vertical-align: middle;\n",
       "    }\n",
       "\n",
       "    .dataframe tbody tr th {\n",
       "        vertical-align: top;\n",
       "    }\n",
       "\n",
       "    .dataframe thead th {\n",
       "        text-align: right;\n",
       "    }\n",
       "</style>\n",
       "<table border=\"1\" class=\"dataframe\">\n",
       "  <thead>\n",
       "    <tr style=\"text-align: right;\">\n",
       "      <th></th>\n",
       "      <th>level_choice_time</th>\n",
       "      <th>pack_choice_time</th>\n",
       "      <th>purchase_time</th>\n",
       "    </tr>\n",
       "    <tr>\n",
       "      <th>group_without</th>\n",
       "      <th></th>\n",
       "      <th></th>\n",
       "      <th></th>\n",
       "    </tr>\n",
       "  </thead>\n",
       "  <tbody>\n",
       "    <tr>\n",
       "      <th>no_tutorial</th>\n",
       "      <td>5.259201</td>\n",
       "      <td>0.089951</td>\n",
       "      <td>100.825997</td>\n",
       "    </tr>\n",
       "    <tr>\n",
       "      <th>yes_tutorial</th>\n",
       "      <td>7.093571</td>\n",
       "      <td>0.088374</td>\n",
       "      <td>89.299900</td>\n",
       "    </tr>\n",
       "  </tbody>\n",
       "</table>\n",
       "</div>"
      ],
      "text/plain": [
       "               level_choice_time  pack_choice_time  purchase_time\n",
       "group_without                                                    \n",
       "no_tutorial             5.259201          0.089951     100.825997\n",
       "yes_tutorial            7.093571          0.088374      89.299900"
      ]
     },
     "metadata": {},
     "output_type": "display_data"
    }
   ],
   "source": [
    "# подготовим данные для визуализации\n",
    "pivot = total_diff_df[['level_choice_time', 'pack_choice_time', 'purchase_time']]\n",
    "pivot = (pivot[['level_choice_time', 'pack_choice_time', 'purchase_time']]/pd.Timedelta(hours = 1)).copy()\n",
    "pivot = pivot.groupby(pivot.index)[['level_choice_time', 'pack_choice_time', 'purchase_time']].mean()\n",
    "display(pivot)"
   ]
  },
  {
   "cell_type": "code",
   "execution_count": 156,
   "metadata": {},
   "outputs": [
    {
     "data": {
      "text/plain": [
       "'Таблица разности между оплатой и регистрацией для двух групп'"
      ]
     },
     "metadata": {},
     "output_type": "display_data"
    },
    {
     "data": {
      "text/html": [
       "<div>\n",
       "<style scoped>\n",
       "    .dataframe tbody tr th:only-of-type {\n",
       "        vertical-align: middle;\n",
       "    }\n",
       "\n",
       "    .dataframe tbody tr th {\n",
       "        vertical-align: top;\n",
       "    }\n",
       "\n",
       "    .dataframe thead th {\n",
       "        text-align: right;\n",
       "    }\n",
       "</style>\n",
       "<table border=\"1\" class=\"dataframe\">\n",
       "  <thead>\n",
       "    <tr style=\"text-align: right;\">\n",
       "      <th></th>\n",
       "      <th>count</th>\n",
       "      <th>mean</th>\n",
       "      <th>std</th>\n",
       "      <th>min</th>\n",
       "      <th>25%</th>\n",
       "      <th>50%</th>\n",
       "      <th>75%</th>\n",
       "      <th>max</th>\n",
       "    </tr>\n",
       "    <tr>\n",
       "      <th>group_without</th>\n",
       "      <th></th>\n",
       "      <th></th>\n",
       "      <th></th>\n",
       "      <th></th>\n",
       "      <th></th>\n",
       "      <th></th>\n",
       "      <th></th>\n",
       "      <th></th>\n",
       "    </tr>\n",
       "  </thead>\n",
       "  <tbody>\n",
       "    <tr>\n",
       "      <th>no_tutorial</th>\n",
       "      <td>22</td>\n",
       "      <td>4 days 09:06:01.909090909</td>\n",
       "      <td>2 days 05:12:16.748091626</td>\n",
       "      <td>0 days 09:59:07</td>\n",
       "      <td>2 days 21:31:31</td>\n",
       "      <td>4 days 11:29:09</td>\n",
       "      <td>6 days 02:28:47.750000</td>\n",
       "      <td>7 days 16:46:20</td>\n",
       "    </tr>\n",
       "    <tr>\n",
       "      <th>yes_tutorial</th>\n",
       "      <td>1447</td>\n",
       "      <td>4 days 00:30:03.247408431</td>\n",
       "      <td>2 days 04:47:29.946150698</td>\n",
       "      <td>0 days 04:36:58</td>\n",
       "      <td>2 days 04:09:55</td>\n",
       "      <td>3 days 19:04:59</td>\n",
       "      <td>5 days 15:46:14</td>\n",
       "      <td>11 days 00:35:04</td>\n",
       "    </tr>\n",
       "  </tbody>\n",
       "</table>\n",
       "</div>"
      ],
      "text/plain": [
       "              count                       mean                        std  \\\n",
       "group_without                                                               \n",
       "no_tutorial      22  4 days 09:06:01.909090909  2 days 05:12:16.748091626   \n",
       "yes_tutorial   1447  4 days 00:30:03.247408431  2 days 04:47:29.946150698   \n",
       "\n",
       "                           min              25%              50%  \\\n",
       "group_without                                                      \n",
       "no_tutorial    0 days 09:59:07  2 days 21:31:31  4 days 11:29:09   \n",
       "yes_tutorial   0 days 04:36:58  2 days 04:09:55  3 days 19:04:59   \n",
       "\n",
       "                                  75%               max  \n",
       "group_without                                            \n",
       "no_tutorial    6 days 02:28:47.750000   7 days 16:46:20  \n",
       "yes_tutorial          5 days 15:46:14  11 days 00:35:04  "
      ]
     },
     "metadata": {},
     "output_type": "display_data"
    },
    {
     "data": {
      "image/png": "[encoded data removed]",
      "text/plain": [
       "<Figure size 1500x400 with 3 Axes>"
      ]
     },
     "metadata": {},
     "output_type": "display_data"
    }
   ],
   "source": [
    "fig, axes = plt.subplots(nrows=1, ncols=3, figsize=(15,4))\n",
    "sns.barplot(\n",
    "    data=pivot,\n",
    "    y = 'level_choice_time', \n",
    "    orient='v',\n",
    "    x = pivot.index,\n",
    "    width=0.3,\n",
    "    ax = axes[0]\n",
    ")\n",
    "axes[0].set_title('Распределение level_choice_time', fontsize = (10));\n",
    "axes[0].set_xlabel('Группы')\n",
    "axes[0].grid()\n",
    "\n",
    "sns.barplot(\n",
    "    data=pivot,\n",
    "    y = 'pack_choice_time', \n",
    "    orient='v',\n",
    "    x = pivot.index,\n",
    "    width=0.3,\n",
    "    ax = axes[1]\n",
    ")\n",
    "axes[1].set_title('Распределение pack_choice_time', fontsize = (10));\n",
    "axes[1].grid()\n",
    "axes[1].set_xlabel('Группы')\n",
    "\n",
    "sns.barplot(\n",
    "    data=pivot,\n",
    "    y = 'purchase_time', \n",
    "    orient='v',\n",
    "    x = pivot.index,\n",
    "    width=0.3,\n",
    "    ax = axes[2]\n",
    ")\n",
    "axes[2].set_title('Распределение purchase_time', fontsize = (10));\n",
    "axes[2].set_xlabel('Группы')\n",
    "axes[2].grid()\n",
    "\n",
    "display('Таблица разности между оплатой и регистрацией для двух групп',\\\n",
    "    total_group_df.groupby(total_group_df.index)['delta'].describe())"
   ]
  },
  {
   "attachments": {},
   "cell_type": "markdown",
   "metadata": {},
   "source": [
    "Для пользователей, прошедших обучение, процесс оплаты с момента регистрации в среднем на 8,5 часов меньше, чем у пользователей, не прошедших обучение, далее будем их называть группа 1 (с обучением) и 2 (без обучения)."
   ]
  },
  {
   "attachments": {},
   "cell_type": "markdown",
   "metadata": {},
   "source": [
    "Группа 1 выбирает уровень сложности на 2,2 часа дольше, чем группа 2. Далее группа 1 выбирает бесплатный пакет и покупает платный пакет вопросов быстрее (5 минут и 11 часов соответственно). В конечном счете группа 1 совершает оплату раньше. "
   ]
  },
  {
   "attachments": {},
   "cell_type": "markdown",
   "metadata": {},
   "source": [
    "## Вывод\n",
    "Обучение влияет на скорость прохождения других этапов игры. Время между этапами у пользователей, прошедших обучение, с пользователями, не прошедшими обучение, различается."
   ]
  },
  {
   "attachments": {},
   "cell_type": "markdown",
   "metadata": {},
   "source": [
    "# Задача 2: проверим, существует ли зависимость между вероятностью оплаты вопросов и количеством обучений, которые начинал или завершал пользователь."
   ]
  },
  {
   "cell_type": "code",
   "execution_count": 157,
   "metadata": {},
   "outputs": [
    {
     "data": {
      "text/html": [
       "<div>\n",
       "<style scoped>\n",
       "    .dataframe tbody tr th:only-of-type {\n",
       "        vertical-align: middle;\n",
       "    }\n",
       "\n",
       "    .dataframe tbody tr th {\n",
       "        vertical-align: top;\n",
       "    }\n",
       "\n",
       "    .dataframe thead th {\n",
       "        text-align: right;\n",
       "    }\n",
       "</style>\n",
       "<table border=\"1\" class=\"dataframe\">\n",
       "  <thead>\n",
       "    <tr style=\"text-align: right;\">\n",
       "      <th></th>\n",
       "      <th>user_id</th>\n",
       "      <th>event_type</th>\n",
       "    </tr>\n",
       "  </thead>\n",
       "  <tbody>\n",
       "    <tr>\n",
       "      <th>0</th>\n",
       "      <td>27832</td>\n",
       "      <td>[registration]</td>\n",
       "    </tr>\n",
       "    <tr>\n",
       "      <th>1</th>\n",
       "      <td>27833</td>\n",
       "      <td>[registration, tutorial_start, tutorial_finish]</td>\n",
       "    </tr>\n",
       "    <tr>\n",
       "      <th>2</th>\n",
       "      <td>27834</td>\n",
       "      <td>[registration, tutorial_start, tutorial_finish]</td>\n",
       "    </tr>\n",
       "    <tr>\n",
       "      <th>3</th>\n",
       "      <td>27835</td>\n",
       "      <td>[registration, tutorial_start, tutorial_finish...</td>\n",
       "    </tr>\n",
       "    <tr>\n",
       "      <th>4</th>\n",
       "      <td>27836</td>\n",
       "      <td>[registration, tutorial_start, tutorial_start,...</td>\n",
       "    </tr>\n",
       "  </tbody>\n",
       "</table>\n",
       "</div>"
      ],
      "text/plain": [
       "   user_id                                         event_type\n",
       "0    27832                                     [registration]\n",
       "1    27833    [registration, tutorial_start, tutorial_finish]\n",
       "2    27834    [registration, tutorial_start, tutorial_finish]\n",
       "3    27835  [registration, tutorial_start, tutorial_finish...\n",
       "4    27836  [registration, tutorial_start, tutorial_start,..."
      ]
     },
     "metadata": {},
     "output_type": "display_data"
    },
    {
     "data": {
      "text/plain": [
       "0                                         registration\n",
       "1      registration > tutorial_start > tutorial_finish\n",
       "2      registration > tutorial_start > tutorial_finish\n",
       "3    registration > tutorial_start > tutorial_finis...\n",
       "4    registration > tutorial_start > tutorial_start...\n",
       "Name: event_path, dtype: object"
      ]
     },
     "execution_count": 157,
     "metadata": {},
     "output_type": "execute_result"
    }
   ],
   "source": [
    "# продолжаем работу с датафреймом - total_events_2018\n",
    "total_events_2018 = total_events_2018.reset_index(drop=True).sort_values(['user_id','start_time'])\n",
    "# удаляем индексы, сортируем по 'user_id' и 'start_time'\n",
    "user_path_df = total_events_2018.groupby(\"user_id\")[\"event_type\"].apply(list).reset_index()\n",
    "# создаем сгруппированный датафрейм  \n",
    "display(user_path_df.head())\n",
    "\n",
    "# преобразуем кортеж в строку в каждой ячейке для ускорения обработки данных\n",
    "user_path_df[\"event_path\"] = user_path_df[\"event_type\"].apply(lambda x: \" > \".join(x))\n",
    "user_path_df[\"event_path\"].head() "
   ]
  },
  {
   "cell_type": "code",
   "execution_count": 158,
   "metadata": {},
   "outputs": [
    {
     "data": {
      "text/plain": [
       "event_path\n",
       "registration                                                                               7970\n",
       "registration > tutorial_start > tutorial_finish > level_choice > pack_choice               2796\n",
       "registration > tutorial_start > tutorial_finish                                            1956\n",
       "registration > tutorial_start > tutorial_finish > level_choice                             1713\n",
       "registration > tutorial_start > tutorial_finish > level_choice > pack_choice > purchase    1083\n",
       "Name: user_id, dtype: int64"
      ]
     },
     "execution_count": 158,
     "metadata": {},
     "output_type": "execute_result"
    }
   ],
   "source": [
    "# рассмотрим самые популярные пользовательские пути\n",
    "user_paths = (\n",
    "    user_path_df.groupby([\"event_path\"])[\"user_id\"]\n",
    "    .nunique()\n",
    "    .sort_values(ascending=False)\n",
    ")\n",
    "user_paths.head()"
   ]
  },
  {
   "cell_type": "code",
   "execution_count": 159,
   "metadata": {},
   "outputs": [
    {
     "data": {
      "text/plain": [
       "event_path\n",
       "registration > tutorial_start > tutorial_finish > level_choice > pack_choice > purchase                                       1083\n",
       "registration > tutorial_start > level_choice > pack_choice > purchase                                                          124\n",
       "registration > tutorial_start > tutorial_finish > level_choice > pack_choice > tutorial_start > tutorial_finish > purchase     101\n",
       "registration > tutorial_start > tutorial_finish > tutorial_start > tutorial_finish > level_choice > pack_choice > purchase      52\n",
       "registration > tutorial_start > tutorial_start > tutorial_finish > level_choice > pack_choice > purchase                        26\n",
       "Name: user_id, dtype: int64"
      ]
     },
     "metadata": {},
     "output_type": "display_data"
    }
   ],
   "source": [
    "# Ищем последовательности с оплатой\n",
    "display(user_paths[user_paths.index.str.contains('purchase')].head())"
   ]
  },
  {
   "cell_type": "code",
   "execution_count": 160,
   "metadata": {},
   "outputs": [
    {
     "data": {
      "text/plain": [
       "event_path\n",
       "registration > tutorial_start > tutorial_finish > level_choice > pack_choice > purchase                                       1083\n",
       "registration > tutorial_start > level_choice > pack_choice > purchase                                                          124\n",
       "registration > tutorial_start > tutorial_finish > level_choice > pack_choice > tutorial_start > tutorial_finish > purchase     101\n",
       "registration > tutorial_start > tutorial_finish > tutorial_start > tutorial_finish > level_choice > pack_choice > purchase      52\n",
       "registration > tutorial_start > tutorial_start > tutorial_finish > level_choice > pack_choice > purchase                        26\n",
       "Name: user_id, dtype: int64"
      ]
     },
     "metadata": {},
     "output_type": "display_data"
    },
    {
     "name": "stdout",
     "output_type": "stream",
     "text": [
      "1578 оплат, где было хотя бы 1 обучение\n",
      "1600 - общее количество оплат\n"
     ]
    }
   ],
   "source": [
    "# Ищем последовательности с оплатой и обучением\n",
    "mask1 = user_paths.index.str.contains('purchase')\n",
    "mask2 = user_paths.index.str.contains('tutorial_start')\n",
    "\n",
    "display(user_paths[(mask1)&(mask2)].head()) # самые популярные пути с оплатой и обучением\n",
    "\n",
    "purchase_count = user_paths[(mask1)&(mask2)]\n",
    "print('{} оплат, где было хотя бы 1 обучение'.format(purchase_count.sum()))\n",
    "print(total_events_2018.amount.count(), '- общее количество оплат')\n",
    "\n",
    "purchase_count = user_paths[(mask1)&(mask2)] # оставим 6 самых популярный путей для графика"
   ]
  },
  {
   "attachments": {},
   "cell_type": "markdown",
   "metadata": {},
   "source": [
    "Итого у нас получилось 1600 оплат, из них 1578 приходится на пользователей с обучением.\n",
    "1447 пользователей завершили обучение или прошли его дважды. \n",
    "1578 - 1447 = 131 оплата на пользователей с незаконченным обучением.\n",
    "22 пользователя совершили покупку не обучаясь."
   ]
  },
  {
   "cell_type": "code",
   "execution_count": 161,
   "metadata": {},
   "outputs": [
    {
     "data": {
      "image/png": "[encoded data removed]",
      "text/plain": [
       "<Figure size 500x500 with 1 Axes>"
      ]
     },
     "metadata": {},
     "output_type": "display_data"
    }
   ],
   "source": [
    "purchases = pd.Series(purchase_count).sort_values(ascending=False)\n",
    "#выделяем ТОП-7 путей и добавляем категорию 'other'\n",
    "purchases['other'] = purchases[7:].sum()\n",
    "purchases = purchases.sort_values(ascending=False)[:8]\n",
    "fig = plt.figure(figsize=(5, 5))\n",
    "axes = fig.add_axes([0, 0, 1, 1])\n",
    "axes.pie(\n",
    "    purchases,\n",
    "    labels=purchases.index,\n",
    "    autopct='%.1f%%',    \n",
    "    explode = [0.2, 0.1, 0, 0, 0, 0, 0, 0]\n",
    ");\n",
    "axes.set_title('График путей пользователей'\\\n",
    "    , fontsize = 15);"
   ]
  },
  {
   "attachments": {},
   "cell_type": "markdown",
   "metadata": {},
   "source": [
    "### Вывод \n",
    "Зависимость между вероятностью оплаты и количеством обучений отсутствует. 68.6% пользователей закончили обучение 1 раз и сделали покупку. Также заметно, что чем больше обучений проходит пользователь, тем меньше покупок совершается."
   ]
  },
  {
   "attachments": {},
   "cell_type": "markdown",
   "metadata": {},
   "source": [
    "Рассмотрим группы пользователей по количеству обучений"
   ]
  },
  {
   "cell_type": "code",
   "execution_count": 162,
   "metadata": {},
   "outputs": [
    {
     "data": {
      "text/plain": [
       "array([1, 2, 3, 4, 5, 6, 7, 8, 9], dtype=int64)"
      ]
     },
     "metadata": {},
     "output_type": "display_data"
    },
    {
     "name": "stdout",
     "output_type": "stream",
     "text": [
      "<class 'pandas.core.frame.DataFrame'>\n",
      "RangeIndex: 9 entries, 0 to 8\n",
      "Data columns (total 3 columns):\n",
      " #   Column         Non-Null Count  Dtype\n",
      "---  ------         --------------  -----\n",
      " 0   number_groups  9 non-null      int64\n",
      " 1   user_id        9 non-null      int64\n",
      " 2   purchase_id    9 non-null      int64\n",
      "dtypes: int64(3)\n",
      "memory usage: 344.0 bytes\n",
      "None\n"
     ]
    },
    {
     "data": {
      "text/html": [
       "<div>\n",
       "<style scoped>\n",
       "    .dataframe tbody tr th:only-of-type {\n",
       "        vertical-align: middle;\n",
       "    }\n",
       "\n",
       "    .dataframe tbody tr th {\n",
       "        vertical-align: top;\n",
       "    }\n",
       "\n",
       "    .dataframe thead th {\n",
       "        text-align: right;\n",
       "    }\n",
       "</style>\n",
       "<table border=\"1\" class=\"dataframe\">\n",
       "  <thead>\n",
       "    <tr style=\"text-align: right;\">\n",
       "      <th></th>\n",
       "      <th>number_groups</th>\n",
       "      <th>count_user_id</th>\n",
       "      <th>count_purchase_id</th>\n",
       "      <th>percent</th>\n",
       "    </tr>\n",
       "  </thead>\n",
       "  <tbody>\n",
       "    <tr>\n",
       "      <th>7</th>\n",
       "      <td>8</td>\n",
       "      <td>86</td>\n",
       "      <td>13</td>\n",
       "      <td>15.12</td>\n",
       "    </tr>\n",
       "    <tr>\n",
       "      <th>8</th>\n",
       "      <td>9</td>\n",
       "      <td>113</td>\n",
       "      <td>17</td>\n",
       "      <td>15.04</td>\n",
       "    </tr>\n",
       "    <tr>\n",
       "      <th>4</th>\n",
       "      <td>5</td>\n",
       "      <td>109</td>\n",
       "      <td>16</td>\n",
       "      <td>14.68</td>\n",
       "    </tr>\n",
       "    <tr>\n",
       "      <th>1</th>\n",
       "      <td>2</td>\n",
       "      <td>1589</td>\n",
       "      <td>218</td>\n",
       "      <td>13.72</td>\n",
       "    </tr>\n",
       "    <tr>\n",
       "      <th>3</th>\n",
       "      <td>4</td>\n",
       "      <td>221</td>\n",
       "      <td>30</td>\n",
       "      <td>13.57</td>\n",
       "    </tr>\n",
       "    <tr>\n",
       "      <th>0</th>\n",
       "      <td>1</td>\n",
       "      <td>9103</td>\n",
       "      <td>1207</td>\n",
       "      <td>13.26</td>\n",
       "    </tr>\n",
       "    <tr>\n",
       "      <th>6</th>\n",
       "      <td>7</td>\n",
       "      <td>94</td>\n",
       "      <td>12</td>\n",
       "      <td>12.77</td>\n",
       "    </tr>\n",
       "    <tr>\n",
       "      <th>5</th>\n",
       "      <td>6</td>\n",
       "      <td>116</td>\n",
       "      <td>14</td>\n",
       "      <td>12.07</td>\n",
       "    </tr>\n",
       "    <tr>\n",
       "      <th>2</th>\n",
       "      <td>3</td>\n",
       "      <td>427</td>\n",
       "      <td>51</td>\n",
       "      <td>11.94</td>\n",
       "    </tr>\n",
       "  </tbody>\n",
       "</table>\n",
       "</div>"
      ],
      "text/plain": [
       "   number_groups  count_user_id  count_purchase_id  percent\n",
       "7              8             86                 13    15.12\n",
       "8              9            113                 17    15.04\n",
       "4              5            109                 16    14.68\n",
       "1              2           1589                218    13.72\n",
       "3              4            221                 30    13.57\n",
       "0              1           9103               1207    13.26\n",
       "6              7             94                 12    12.77\n",
       "5              6            116                 14    12.07\n",
       "2              3            427                 51    11.94"
      ]
     },
     "metadata": {},
     "output_type": "display_data"
    }
   ],
   "source": [
    "tutorial_df = total_events_2018[total_events_2018['event_type'].isin(['tutorial_start'])][['user_id', 'event_type']]\n",
    "tutorial_df = tutorial_df.user_id.value_counts().sort_values()\n",
    "tutorial_df = tutorial_df.reset_index()\n",
    "tutorial_df.columns = ['user_id', 'number_groups']\n",
    "display(tutorial_df.number_groups.unique()) # номера групп по количеству обучений:группа 1 - 1 обучение, группа 2 - 2 обучения...\n",
    "\n",
    "# соединим датафрейм с исходным\n",
    "total_events_2018 = total_events_2018.merge(tutorial_df, on = 'user_id', how = 'inner')\n",
    "\n",
    "# подготовим датафрейм для подсчёта конверсии в покупку для каждой группы\n",
    "tutorial_df2 = total_events_2018.groupby('number_groups', as_index = False)[['user_id', 'purchase_id']].nunique()\n",
    "#  напомню, что 1 пользователь совершает покупку 1 раз. Поэтому считаю через метод: nunique\n",
    "\n",
    "print(tutorial_df2.info()) # промежуточный результат\n",
    "\n",
    "tutorial_df2['percent'] = round(100 * tutorial_df2.purchase_id/tutorial_df2.user_id,2)\n",
    "\n",
    "# переименуем столбцы\n",
    "tutorial_df2.columns = ['number_groups',  'count_user_id',  'count_purchase_id', 'percent'] \n",
    "tutorial_df2 = tutorial_df2.sort_values('percent', ascending = False)\n",
    "display(tutorial_df2)"
   ]
  },
  {
   "cell_type": "code",
   "execution_count": 163,
   "metadata": {},
   "outputs": [
    {
     "data": {
      "image/png": "[encoded data removed]",
      "text/plain": [
       "<Figure size 1500x400 with 1 Axes>"
      ]
     },
     "metadata": {},
     "output_type": "display_data"
    }
   ],
   "source": [
    "# построим график\n",
    "fig = plt.figure(figsize=(15,4))\n",
    "barplot1 = sns.barplot(\n",
    "    data= tutorial_df2[['percent', 'number_groups']] ,\n",
    "    y = 'percent', \n",
    "    x = 'number_groups',\n",
    "    orient='v',\n",
    "    order = tutorial_df2.sort_values(by = 'percent', ascending = False).number_groups,\n",
    "    width = 0.5);\n",
    "\n",
    "barplot1.set_title('Конверсия в покупку в зависимости от группы', fontsize = (10)); \n",
    "# номер группы равен количеству обучений \n",
    "barplot1.set_ylabel('%')\n",
    "barplot1.set_xlabel('Группы');"
   ]
  },
  {
   "cell_type": "code",
   "execution_count": 164,
   "metadata": {},
   "outputs": [
    {
     "data": {
      "image/png": "[encoded data removed]",
      "text/plain": [
       "<Figure size 1200x400 with 1 Axes>"
      ]
     },
     "metadata": {},
     "output_type": "display_data"
    }
   ],
   "source": [
    "# отсортируем и построим еще один график\n",
    "tutorial_df2.sort_values(by ='count_user_id', inplace = True, ascending = False)\n",
    "\n",
    "tutorial_df2[['number_groups', 'count_user_id', 'count_purchase_id']].set_index('number_groups').plot(\n",
    "    kind='bar',\n",
    "    grid=True,\n",
    "    title = 'Сравнение количества пользователей и количества оплат',\n",
    "    legend = True,\n",
    "    figsize=(12, 4),\n",
    "    logy = True, # используем логарифмический график для корректного отображения масштабов\n",
    "    xlabel = 'Группы',\n",
    "    ylabel = 'Количество'\n",
    ");\n",
    "    "
   ]
  },
  {
   "attachments": {},
   "cell_type": "markdown",
   "metadata": {},
   "source": [
    "Как видно из графика, распредение количества пользователей и количества оплат, прошедшие обучение 5 и более раз, примерно одинаково.\n"
   ]
  },
  {
   "attachments": {},
   "cell_type": "markdown",
   "metadata": {},
   "source": [
    "### Вывод\n",
    "Обучение влияет на вероятность оплаты и не зависит от количества обучений. Например, больше всего покупок у пользователей, прошедших обучение 1 раз. Покупки и количество пользователей, прошедших обучение от 5 до 9 раз, примерно одинаковое. Видимо, не всем пользователям понятно обучение, поэтому им приходится проходить обучение несколько раз, прежде чем произвести покупку. "
   ]
  },
  {
   "attachments": {},
   "cell_type": "markdown",
   "metadata": {},
   "source": [
    "# Задача 3: определим, насколько прозрачен процесс взаимодействия с игрой.\n",
    "Выясним, как часто пользователи начинают обучение после выбора уровня сложности (это позволит оценить прозрачность процесса взаимодействия с игрой: если пользователи после выбора уровня сложности обращаются к обучению, значит, работа с приложением непонятна)."
   ]
  },
  {
   "cell_type": "code",
   "execution_count": 165,
   "metadata": {},
   "outputs": [
    {
     "data": {
      "text/plain": [
       "event_path\n",
       "registration > tutorial_start > tutorial_finish > level_choice > tutorial_start > tutorial_finish                                                                          169\n",
       "registration > tutorial_start > tutorial_finish > level_choice > tutorial_start                                                                                             39\n",
       "registration > tutorial_start > tutorial_finish > level_choice > tutorial_start > tutorial_finish > tutorial_start > tutorial_finish                                        31\n",
       "registration > tutorial_start > tutorial_finish > tutorial_start > tutorial_finish > level_choice > tutorial_start > tutorial_finish                                        17\n",
       "registration > tutorial_start > tutorial_finish > level_choice > tutorial_start > tutorial_finish > tutorial_start > tutorial_finish > tutorial_start > tutorial_finish     12\n",
       "Name: user_id, dtype: int64"
      ]
     },
     "metadata": {},
     "output_type": "display_data"
    }
   ],
   "source": [
    "# сформируем фильтр по событию : выбор уровня сложности и начала обучения\n",
    "display(user_paths[user_paths.index.str.contains('level_choice > tutorial_start')].head())"
   ]
  },
  {
   "attachments": {},
   "cell_type": "markdown",
   "metadata": {},
   "source": [
    "Рассмотрим разные комбинации, где этап обучения был выбран после сложности. Определим разность между столбцами времения обучения и времени выбора уровня сложности. Необхоимые значения будут иметь положительный результат."
   ]
  },
  {
   "cell_type": "code",
   "execution_count": 166,
   "metadata": {},
   "outputs": [
    {
     "name": "stdout",
     "output_type": "stream",
     "text": [
      "<class 'pandas.core.frame.DataFrame'>\n",
      "Int64Index: 12686 entries, 0 to 12685\n",
      "Data columns (total 3 columns):\n",
      " #   Column               Non-Null Count  Dtype         \n",
      "---  ------               --------------  -----         \n",
      " 0   user_id              12686 non-null  int64         \n",
      " 1   tutorial_start_time  12686 non-null  datetime64[ns]\n",
      " 2   level_choice_time    12686 non-null  datetime64[ns]\n",
      "dtypes: datetime64[ns](2), int64(1)\n",
      "memory usage: 396.4 KB\n"
     ]
    }
   ],
   "source": [
    "# сформируем датафреймы\n",
    "level_choice_df = total_events_2018[total_events_2018['event_type'] == 'level_choice'][['user_id', 'start_time']]\n",
    "tutorial_start_df = total_events_2018[total_events_2018['event_type'] == 'tutorial_start'][['user_id', 'start_time']]\n",
    "\n",
    "level_choice_df = level_choice_df.rename(\n",
    "    columns={\"start_time\": \"level_choice_time\"}\n",
    ")\n",
    "                   \n",
    "tutorial_start_df = tutorial_start_df.rename(\n",
    "    columns={\"start_time\": \"tutorial_start_time\"}\n",
    ")                                                   \n",
    "\n",
    "# объединим датафреймы\n",
    "transparency_df = tutorial_start_df.merge(level_choice_df, on ='user_id', how = 'inner')               \n",
    "transparency_df.info()"
   ]
  },
  {
   "cell_type": "code",
   "execution_count": 167,
   "metadata": {},
   "outputs": [
    {
     "data": {
      "text/html": [
       "<div>\n",
       "<style scoped>\n",
       "    .dataframe tbody tr th:only-of-type {\n",
       "        vertical-align: middle;\n",
       "    }\n",
       "\n",
       "    .dataframe tbody tr th {\n",
       "        vertical-align: top;\n",
       "    }\n",
       "\n",
       "    .dataframe thead th {\n",
       "        text-align: right;\n",
       "    }\n",
       "</style>\n",
       "<table border=\"1\" class=\"dataframe\">\n",
       "  <thead>\n",
       "    <tr style=\"text-align: right;\">\n",
       "      <th></th>\n",
       "      <th>user_id</th>\n",
       "      <th>tutorial_start_time</th>\n",
       "      <th>level_choice_time</th>\n",
       "      <th>time</th>\n",
       "    </tr>\n",
       "  </thead>\n",
       "  <tbody>\n",
       "    <tr>\n",
       "      <th>4</th>\n",
       "      <td>27842</td>\n",
       "      <td>2018-01-02 09:01:51</td>\n",
       "      <td>2018-01-02 08:46:03</td>\n",
       "      <td>0.263333</td>\n",
       "    </tr>\n",
       "    <tr>\n",
       "      <th>5</th>\n",
       "      <td>27842</td>\n",
       "      <td>2018-01-02 18:08:01</td>\n",
       "      <td>2018-01-02 08:46:03</td>\n",
       "      <td>9.366111</td>\n",
       "    </tr>\n",
       "    <tr>\n",
       "      <th>8</th>\n",
       "      <td>27845</td>\n",
       "      <td>2018-01-02 07:08:00</td>\n",
       "      <td>2018-01-02 06:19:18</td>\n",
       "      <td>0.811667</td>\n",
       "    </tr>\n",
       "    <tr>\n",
       "      <th>13</th>\n",
       "      <td>27852</td>\n",
       "      <td>2018-01-02 20:34:31</td>\n",
       "      <td>2018-01-02 18:39:44</td>\n",
       "      <td>1.913056</td>\n",
       "    </tr>\n",
       "    <tr>\n",
       "      <th>21</th>\n",
       "      <td>27862</td>\n",
       "      <td>2018-01-03 11:17:41</td>\n",
       "      <td>2018-01-03 04:19:32</td>\n",
       "      <td>6.969167</td>\n",
       "    </tr>\n",
       "    <tr>\n",
       "      <th>...</th>\n",
       "      <td>...</td>\n",
       "      <td>...</td>\n",
       "      <td>...</td>\n",
       "      <td>...</td>\n",
       "    </tr>\n",
       "    <tr>\n",
       "      <th>12630</th>\n",
       "      <td>47635</td>\n",
       "      <td>2018-12-28 17:28:42</td>\n",
       "      <td>2018-12-28 11:43:38</td>\n",
       "      <td>5.751111</td>\n",
       "    </tr>\n",
       "    <tr>\n",
       "      <th>12643</th>\n",
       "      <td>47657</td>\n",
       "      <td>2018-12-28 21:44:13</td>\n",
       "      <td>2018-12-28 21:25:49</td>\n",
       "      <td>0.306667</td>\n",
       "    </tr>\n",
       "    <tr>\n",
       "      <th>12644</th>\n",
       "      <td>47657</td>\n",
       "      <td>2018-12-28 21:53:06</td>\n",
       "      <td>2018-12-28 21:25:49</td>\n",
       "      <td>0.454722</td>\n",
       "    </tr>\n",
       "    <tr>\n",
       "      <th>12666</th>\n",
       "      <td>47711</td>\n",
       "      <td>2018-12-29 22:50:57</td>\n",
       "      <td>2018-12-29 21:23:23</td>\n",
       "      <td>1.459444</td>\n",
       "    </tr>\n",
       "    <tr>\n",
       "      <th>12672</th>\n",
       "      <td>47724</td>\n",
       "      <td>2018-12-31 02:47:53</td>\n",
       "      <td>2018-12-30 13:21:12</td>\n",
       "      <td>13.444722</td>\n",
       "    </tr>\n",
       "  </tbody>\n",
       "</table>\n",
       "<p>2792 rows × 4 columns</p>\n",
       "</div>"
      ],
      "text/plain": [
       "       user_id tutorial_start_time   level_choice_time       time\n",
       "4        27842 2018-01-02 09:01:51 2018-01-02 08:46:03   0.263333\n",
       "5        27842 2018-01-02 18:08:01 2018-01-02 08:46:03   9.366111\n",
       "8        27845 2018-01-02 07:08:00 2018-01-02 06:19:18   0.811667\n",
       "13       27852 2018-01-02 20:34:31 2018-01-02 18:39:44   1.913056\n",
       "21       27862 2018-01-03 11:17:41 2018-01-03 04:19:32   6.969167\n",
       "...        ...                 ...                 ...        ...\n",
       "12630    47635 2018-12-28 17:28:42 2018-12-28 11:43:38   5.751111\n",
       "12643    47657 2018-12-28 21:44:13 2018-12-28 21:25:49   0.306667\n",
       "12644    47657 2018-12-28 21:53:06 2018-12-28 21:25:49   0.454722\n",
       "12666    47711 2018-12-29 22:50:57 2018-12-29 21:23:23   1.459444\n",
       "12672    47724 2018-12-31 02:47:53 2018-12-30 13:21:12  13.444722\n",
       "\n",
       "[2792 rows x 4 columns]"
      ]
     },
     "metadata": {},
     "output_type": "display_data"
    },
    {
     "name": "stdout",
     "output_type": "stream",
     "text": [
      "1386 пользователей, начавших обучение после выбора сложности; доля таких пользователей - 6.96 %\n"
     ]
    }
   ],
   "source": [
    "# выберем пользователей, начавших обучение после выбора сложности\n",
    "transparency_df['time'] = transparency_df.tutorial_start_time - transparency_df.level_choice_time\n",
    "transparency_df['time'] = transparency_df['time']/pd.Timedelta(hours = 1) \n",
    "transparency_df = transparency_df[transparency_df['time'] > 0]\n",
    "display(transparency_df)\n",
    "\n",
    "# считаем пользователей\n",
    "print('{} пользователей, начавших обучение после выбора сложности; доля таких пользователей - {} %'.\\\n",
    "        format( (transparency_df.user_id.nunique()), (round(100 * transparency_df.user_id.nunique()/count_all_users,2))))"
   ]
  },
  {
   "attachments": {},
   "cell_type": "markdown",
   "metadata": {},
   "source": [
    "### Вывод\n",
    "Около 7% пользователей начинают обучение после выбора сложности, что является достаточно неплохим показателем."
   ]
  }
 ],
 "metadata": {
  "kernelspec": {
   "display_name": "Python 3",
   "language": "python",
   "name": "python3"
  },
  "language_info": {
   "codemirror_mode": {
    "name": "ipython",
    "version": 3
   },
   "file_extension": ".py",
   "mimetype": "text/x-python",
   "name": "python",
   "nbconvert_exporter": "python",
   "pygments_lexer": "ipython3",
   "version": "3.9.10"
  },
  "orig_nbformat": 4,
  "vscode": {
   "interpreter": {
    "hash": "4cff3abf1678755e0069fd79299a535fe1940bcd71a6b01d9f4386710b2b163f"
   }
  }
 },
 "nbformat": 4,
 "nbformat_minor": 2
}
